{
 "cells": [
  {
   "cell_type": "code",
   "execution_count": 8,
   "id": "55b87ea2-c3a8-41ad-8d4e-87a861390693",
   "metadata": {},
   "outputs": [],
   "source": [
    "from bluesky import RunEngine\n",
    "from bluesky.callbacks import LiveTable, LivePlot, CallbackBase\n",
    "import classes"
   ]
  },
  {
   "cell_type": "code",
   "execution_count": 9,
   "id": "ccd6811c-2b88-42e1-9ac7-e3d0ed7c0244",
   "metadata": {},
   "outputs": [
    {
     "name": "stdout",
     "output_type": "stream",
     "text": [
      "\n",
      "\n",
      "+-----------+------------+--------------+------------+------------+------------------+-------------------+------------+\n",
      "|   seq_num |       time | ps_wrCurRamp |   ps_rdCur |  ps_rdVolt | ps_rdHeatSinkTmp | ps_rdHeatShuntTmp |    ps_done |\n",
      "+-----------+------------+--------------+------------+------------+------------------+-------------------+------------+\n",
      "|         1 | 10:03:40.9 |            0 |      0.000 |      0.004 |           32.850 |            32.210 |          0 |\n",
      "|         2 | 10:03:45.1 |            1 |      1.000 |      2.745 |           32.850 |            32.140 |          0 |\n",
      "|         3 | 10:03:49.0 |            2 |      2.000 |      5.484 |           32.850 |            32.140 |          0 |\n",
      "|         4 | 10:03:53.1 |            3 |      3.000 |      8.224 |           32.850 |            32.140 |          0 |\n",
      "|         5 | 10:03:57.1 |            4 |      4.000 |     10.966 |           32.850 |            32.280 |          0 |\n",
      "|         6 | 10:04:01.1 |            5 |      5.000 |     13.713 |           32.990 |            32.210 |          0 |\n",
      "+-----------+------------+--------------+------------+------------+------------------+-------------------+------------+\n",
      "generator scan ['a5e46a9e'] (scan num: 1)\n",
      "\n",
      "\n",
      "UID: a5e46a9e-4bfd-4349-838d-06f459d210f0\n"
     ]
    }
   ],
   "source": [
    "RE = RunEngine()\n",
    "\n",
    "ps = classes.PowerSupply(\"G3:PS:\", name=\"ps\")\n",
    "ps.turn_on()\n",
    "\n",
    "# attiva la tabella\n",
    "fields = [\"ps_wrCurRamp\",\"ps_rdCur\",\"ps_rdVolt\",\"ps_rdHeatSinkTmp\",\"ps_rdHeatShuntTmp\",\"ps_done\"]\n",
    "tok = RE.subscribe(LiveTable(fields))\n",
    "\n",
    "# esempio: 0→5 A, step 1 A\n",
    "uid, = RE(classes.ramp_scan(ps, 0, 5, 1, pre_wait_s=2, hold_s=1, tol=0.02, base_timeout=5))\n",
    "print(\"UID:\", uid)\n",
    "\n",
    "# disattiva la tabella\n",
    "tok = RE.unsubscribe(LiveTable(fields)) \n",
    "\n",
    "rasp = classes.Gaussmeter(\"G3:GM:\", name = \"rasp\")\n",
    "rasp.wait_for_connection()\n",
    "\n",
    "# Switch the GM on\n",
    "rasp.switch(1)"
   ]
  },
  {
   "cell_type": "code",
   "execution_count": null,
   "id": "7c0368ba-9de3-4093-a4e4-f2adf6177c2c",
   "metadata": {},
   "outputs": [],
   "source": []
  },
  {
   "cell_type": "code",
   "execution_count": 7,
   "id": "31e6ec94-03cb-47b9-a071-08ec7bd5bc5d",
   "metadata": {},
   "outputs": [
    {
     "ename": "NameError",
     "evalue": "name 'CallbackBase' is not defined",
     "output_type": "error",
     "traceback": [
      "\u001b[31m---------------------------------------------------------------------------\u001b[39m",
      "\u001b[31mNameError\u001b[39m                                 Traceback (most recent call last)",
      "\u001b[36mCell\u001b[39m\u001b[36m \u001b[39m\u001b[32mIn[7]\u001b[39m\u001b[32m, line 9\u001b[39m\n\u001b[32m      4\u001b[39m \u001b[38;5;28;01mimport\u001b[39;00m\u001b[38;5;250m \u001b[39m\u001b[34;01mos\u001b[39;00m\n\u001b[32m      5\u001b[39m \u001b[38;5;66;03m#import path\u001b[39;00m\n\u001b[32m----> \u001b[39m\u001b[32m9\u001b[39m \u001b[38;5;28;01mclass\u001b[39;00m\u001b[38;5;250m \u001b[39m\u001b[34;01mCSVWriter\u001b[39;00m(\u001b[43mCallbackBase\u001b[49m):\n\u001b[32m     10\u001b[39m     \u001b[38;5;28;01mdef\u001b[39;00m\u001b[38;5;250m \u001b[39m\u001b[34m__init__\u001b[39m(\u001b[38;5;28mself\u001b[39m, fields, fname_format, fpath):\n\u001b[32m     11\u001b[39m         \u001b[38;5;66;03m# calculated in the beginning\u001b[39;00m\n\u001b[32m     12\u001b[39m         \u001b[38;5;28mself\u001b[39m._path = path.Path(fpath)\n",
      "\u001b[31mNameError\u001b[39m: name 'CallbackBase' is not defined"
     ]
    }
   ],
   "source": [
    "\n",
    "import time\n",
    "from datetime import datetime \n",
    "import csv\n",
    "import os\n",
    "#import path\n",
    "\n",
    "\n",
    "\n",
    "class CSVWriter(CallbackBase):\n",
    "    def __init__(self, fields, fname_format, fpath):\n",
    "        # calculated in the beginning\n",
    "        self._path = path.Path(fpath)\n",
    "        os.makedirs(self._path, exist_ok=True)\n",
    "        self._fname_fomat = fname_format\n",
    "        self._fields = fields\n",
    "        self._writer = None\n",
    "        self._fout = None\n",
    "\n",
    "    def close(self):\n",
    "        if self._fout is not None:\n",
    "            self._fout.close()\n",
    "        self._fout = None\n",
    "        self._writer = None\n",
    "\n",
    "    def start(self, doc):\n",
    "        self.close()\n",
    "\n",
    "        fname = self._path / self._fname_fomat.format(**doc)\n",
    "\n",
    "        self._fout = open(fname, 'xt')\n",
    "        self._writer = csv.writer(self._fout)\n",
    "\n",
    "    def descriptor(self, doc):\n",
    "        if self._writer is not None:\n",
    "            self._writer.writerow(self._fields)\n",
    "\n",
    "    def event(self, doc):\n",
    "        data = doc['data']\n",
    "        if self._writer is not None:\n",
    "            self._writer.writerow(data[k] for k in self._fields)\n",
    "\n",
    "    def stop(self, doc):\n",
    "        self.close()\n",
    "\n",
    "def create_cbs():\n",
    "    return LiveTable(fields)\n",
    "\n",
    "timestamp = datetime.now().strftime('%Y%m%d%H%M')\n",
    "print(timestamp)"
   ]
  },
  {
   "cell_type": "code",
   "execution_count": null,
   "id": "48189784-3cef-4cfb-8aa3-18ea0b609b43",
   "metadata": {},
   "outputs": [],
   "source": []
  }
 ],
 "metadata": {
  "kernelspec": {
   "display_name": "Python 3 (ipykernel)",
   "language": "python",
   "name": "python3"
  },
  "language_info": {
   "codemirror_mode": {
    "name": "ipython",
    "version": 3
   },
   "file_extension": ".py",
   "mimetype": "text/x-python",
   "name": "python",
   "nbconvert_exporter": "python",
   "pygments_lexer": "ipython3",
   "version": "3.12.6"
  }
 },
 "nbformat": 4,
 "nbformat_minor": 5
}
