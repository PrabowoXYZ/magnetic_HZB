{
 "cells": [
  {
   "cell_type": "code",
   "execution_count": null,
   "id": "212dd7bb",
   "metadata": {},
   "outputs": [],
   "source": [
    "from ophyd import Signal, Device, EpicsSignal, EpicsSignalRO, Component as Cpt\n",
    "\n",
    "from bluesky import RunEngine # executes plans like move, count, scan, .., handles logging, data collection etc\n",
    "\n",
    "from bluesky.callbacks import LiveTable, LivePlot\n",
    "from bluesky.plans import count, scan\n",
    "from bluesky.plan_stubs import monitor, unmonitor, open_run, close_run, sleep\n",
    "\n",
    "import time"
   ]
  },
  {
   "cell_type": "code",
   "execution_count": null,
   "id": "5224c7cc",
   "metadata": {},
   "outputs": [
    {
     "name": "stdout",
     "output_type": "stream",
     "text": [
      "{'mag_field': -119.375, 'voltage': 0.1674, 'onctrl': 1, 'idn': 'RASPY 4B HALL SENSOR (ADC1115 + Hall Se', 'status': 1, 'mctrl': 1}\n"
     ]
    }
   ],
   "source": [
    "class Gaussmeter(Device):\n",
    "   # READ\n",
    "   bfield   = Cpt(EpicsSignalRO, 'rdBfield')\n",
    "   volt     = Cpt(EpicsSignalRO, 'rdVolt')\n",
    "   idn      = Cpt(EpicsSignalRO, 'rdIdn',       kind = \"config\")\n",
    "   status   = Cpt(EpicsSignalRO, 'rdStatus',    kind = \"config\")\n",
    "\n",
    "   # SWITCH\n",
    "   onctrl   = Cpt(EpicsSignal,   'wrOnctrl',    kind = \"config\")\n",
    "   mctrl =  Cpt(EpicsSignal,   'wrMctrl',    kind = \"config\")\n",
    "\n",
    "   # COMMANDS \n",
    "   def switch(self, bi):\n",
    "      \"\"\"\n",
    "      1: On\n",
    "      0: Off\n",
    "      \"\"\"\n",
    "      return self.onctrl.put(bi)\n",
    "\n",
    "   def read_mag_field(self):\n",
    "      \"\"\"\n",
    "      Read magn field\n",
    "      \"\"\"\n",
    "      return self.bfield.get()\n",
    "   \n",
    "   def all(self):\n",
    "      \"\"\"\n",
    "      Returns a directory\n",
    "      \"\"\"\n",
    "      return {\n",
    "         \"mag_field\": self.bfield.get(),\n",
    "         \"voltage\" : self.volt.get(),\n",
    "         \"onctrl\" : self.onctrl.get(),\n",
    "         \"idn\" : self.idn.get(),\n",
    "         \"status\" : self.status.get(),\n",
    "         \"mctrl\" : self.status.get()\n",
    "      }\n",
    "\n",
    "rasp = Gaussmeter(\"G3:GM:\", name = \"rasp\")\n",
    "rasp.wait_for_connection()\n",
    "\n",
    "# Switch the GM on\n",
    "rasp.switch(1)\n",
    "print(rasp.all())"
   ]
  },
  {
   "cell_type": "code",
   "execution_count": 103,
   "id": "b589ef38",
   "metadata": {},
   "outputs": [
    {
     "ename": "KeyboardInterrupt",
     "evalue": "",
     "output_type": "error",
     "traceback": [
      "\u001b[0;31m---------------------------------------------------------------------------\u001b[0m",
      "\u001b[0;31mKeyboardInterrupt\u001b[0m                         Traceback (most recent call last)",
      "Cell \u001b[0;32mIn[103], line 19\u001b[0m\n\u001b[1;32m     16\u001b[0m             \u001b[38;5;28mprint\u001b[39m(\u001b[38;5;124m\"\u001b[39m\u001b[38;5;124mstop\u001b[39m\u001b[38;5;124m\"\u001b[39m)\n\u001b[1;32m     18\u001b[0m     \u001b[38;5;28;01mreturn\u001b[39;00m list_of_b\n\u001b[0;32m---> 19\u001b[0m data \u001b[38;5;241m=\u001b[39m \u001b[43mread_magnetic_field\u001b[49m\u001b[43m(\u001b[49m\u001b[43m)\u001b[49m\n",
      "Cell \u001b[0;32mIn[103], line 14\u001b[0m, in \u001b[0;36mread_magnetic_field\u001b[0;34m(filename)\u001b[0m\n\u001b[1;32m     12\u001b[0m     f\u001b[38;5;241m.\u001b[39mwrite(\u001b[38;5;28mstr\u001b[39m(b_val) \u001b[38;5;241m+\u001b[39m \u001b[38;5;124m\"\u001b[39m\u001b[38;5;124m; \u001b[39m\u001b[38;5;124m\"\u001b[39m)\n\u001b[1;32m     13\u001b[0m     f\u001b[38;5;241m.\u001b[39mflush()\n\u001b[0;32m---> 14\u001b[0m     \u001b[43mtime\u001b[49m\u001b[38;5;241;43m.\u001b[39;49m\u001b[43msleep\u001b[49m\u001b[43m(\u001b[49m\u001b[38;5;241;43m1\u001b[39;49m\u001b[43m)\u001b[49m\n\u001b[1;32m     15\u001b[0m \u001b[38;5;28;01melse\u001b[39;00m:\n\u001b[1;32m     16\u001b[0m     \u001b[38;5;28mprint\u001b[39m(\u001b[38;5;124m\"\u001b[39m\u001b[38;5;124mstop\u001b[39m\u001b[38;5;124m\"\u001b[39m)\n",
      "\u001b[0;31mKeyboardInterrupt\u001b[0m: "
     ]
    }
   ],
   "source": [
    "def read_magnetic_field(filename = \"data.txt\"):\n",
    "    list_of_b = []\n",
    "    global exit\n",
    "    with open(filename, \"w\") as f:\n",
    "        f.write(\"B Field Data, Field in Gauss\\n \\n\")\n",
    "        f.write(str(rasp.all()) + \"\\n\")\n",
    "        f.write(\"\\n \")\n",
    "\n",
    "        while rasp.all()[\"mctrl\"] == 1:\n",
    "            b_val = rasp.read_mag_field()\n",
    "            list_of_b.append(b_val)\n",
    "            f.write(str(b_val) + \"; \")\n",
    "            f.flush()\n",
    "            time.sleep(1)\n",
    "        else:\n",
    "            print(\"stop\")\n",
    "            \n",
    "    return list_of_b\n",
    "data = read_magnetic_field()"
   ]
  },
  {
   "cell_type": "code",
   "execution_count": null,
   "id": "45ad4198",
   "metadata": {},
   "outputs": [],
   "source": []
  },
  {
   "cell_type": "code",
   "execution_count": null,
   "id": "940ed526",
   "metadata": {},
   "outputs": [],
   "source": []
  },
  {
   "cell_type": "code",
   "execution_count": null,
   "id": "cbc20f2d",
   "metadata": {},
   "outputs": [
    {
     "ename": "AttributeError",
     "evalue": "'Header' object has no attribute 'primary'",
     "output_type": "error",
     "traceback": [
      "\u001b[0;31m---------------------------------------------------------------------------\u001b[0m",
      "\u001b[0;31mAttributeError\u001b[0m                            Traceback (most recent call last)",
      "Cell \u001b[0;32mIn[90], line 30\u001b[0m\n\u001b[1;32m     28\u001b[0m \u001b[38;5;66;03m# db[uid] returns a list of Run objects in v2\u001b[39;00m\n\u001b[1;32m     29\u001b[0m run \u001b[38;5;241m=\u001b[39m db[uid][\u001b[38;5;241m0\u001b[39m]            \u001b[38;5;66;03m# take the first run\u001b[39;00m\n\u001b[0;32m---> 30\u001b[0m df \u001b[38;5;241m=\u001b[39m \u001b[43mrun\u001b[49m\u001b[38;5;241;43m.\u001b[39;49m\u001b[43mprimary\u001b[49m\u001b[38;5;241m.\u001b[39mread()\u001b[38;5;241m.\u001b[39mto_dataframe()  \u001b[38;5;66;03m# v2 method to get pandas DataFrame\u001b[39;00m\n\u001b[1;32m     32\u001b[0m \u001b[38;5;28mprint\u001b[39m(df)\n\u001b[1;32m     33\u001b[0m df\u001b[38;5;241m.\u001b[39mto_csv(\u001b[38;5;124m\"\u001b[39m\u001b[38;5;124mmag_field_data.csv\u001b[39m\u001b[38;5;124m\"\u001b[39m)\n",
      "\u001b[0;31mAttributeError\u001b[0m: 'Header' object has no attribute 'primary'"
     ]
    },
    {
     "name": "stderr",
     "output_type": "stream",
     "text": [
      "CA.Client.Exception...............................................\n",
      "    Warning: \"Virtual circuit disconnect\"\n",
      "    Context: \"iocsc3ess3x.ews.bessy.de:5064\"\n",
      "    Source File: ../cac.cpp line 1237\n",
      "    Current Time: Wed Aug 27 2025 17:10:12.450405998\n",
      "..................................................................\n",
      "CA.Client.Exception...............................................\n",
      "    Warning: \"Virtual circuit disconnect\"\n",
      "    Context: \"iocsc3ess3x.ews.bessy.de:5064\"\n",
      "    Source File: ../cac.cpp line 1237\n",
      "    Current Time: Wed Aug 27 2025 17:10:49.991886801\n",
      "..................................................................\n"
     ]
    }
   ],
   "source": [
    "from bluesky import RunEngine\n",
    "from bluesky.plan_stubs import monitor, unmonitor, open_run, close_run, sleep, mv\n",
    "\n",
    "from databroker import Broker\n",
    "import time\n",
    "\n",
    "# Set up RunEngine\n",
    "RE = RunEngine({})\n",
    "\n",
    "# Attach databroker\n",
    "db = Broker.named(\"temp\")   # or your actual catalog\n",
    "RE.subscribe(db.insert)\n",
    "\n",
    "# Example plan using your Device (rasp)\n",
    "def mag_field_plan(delay=1, num=10):\n",
    "    yield from open_run(md)\n",
    "    for i in range(num):\n",
    "        yield from monitor()  # rasp is your Gaussmeter Device\n",
    "        yield from sleep(delay)\n",
    "    yield from close_run()\n",
    "\n",
    "# Run the plan\n",
    "uid = RE(mag_field_plan(delay=1, num=10))\n",
    "\n",
    "# Retrieve data from databroker\n",
    "hdr = db[uid]         # header object\n",
    "\n",
    "# db[uid] returns a list of Run objects in v2\n",
    "run = db[uid][0]            # take the first run\n",
    "df = run.primary.read().to_dataframe()  # v2 method to get pandas DataFrame\n",
    "\n",
    "print(df)\n",
    "df.to_csv(\"mag_field_data.csv\")\n"
   ]
  },
  {
   "cell_type": "code",
   "execution_count": null,
   "id": "d0e301f5",
   "metadata": {},
   "outputs": [],
   "source": []
  },
  {
   "cell_type": "code",
   "execution_count": null,
   "id": "f3b8f0be",
   "metadata": {},
   "outputs": [],
   "source": []
  },
  {
   "cell_type": "code",
   "execution_count": null,
   "id": "eafaf579",
   "metadata": {},
   "outputs": [],
   "source": []
  }
 ],
 "metadata": {
  "kernelspec": {
   "display_name": "ophyd-env",
   "language": "python",
   "name": "python3"
  },
  "language_info": {
   "codemirror_mode": {
    "name": "ipython",
    "version": 3
   },
   "file_extension": ".py",
   "mimetype": "text/x-python",
   "name": "python",
   "nbconvert_exporter": "python",
   "pygments_lexer": "ipython3",
   "version": "3.9.2"
  }
 },
 "nbformat": 4,
 "nbformat_minor": 5
}
